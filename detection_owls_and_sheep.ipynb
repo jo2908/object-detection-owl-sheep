{
 "cells": [
  {
   "cell_type": "markdown",
   "metadata": {},
   "source": [
    "Task:   Detection of owls and sheep using pretrained YOLOv8 on OpenImages-v7 dataset"
   ]
  },
  {
   "cell_type": "markdown",
   "metadata": {},
   "source": [
    "Author: Josipa "
   ]
  },
  {
   "cell_type": "markdown",
   "metadata": {},
   "source": [
    "INSTALLATION AND IMPORTATION OF THE REQUIRED LIBRARIES"
   ]
  },
  {
   "cell_type": "code",
   "execution_count": 1,
   "metadata": {},
   "outputs": [],
   "source": [
    "# Installation\n",
    "%pip install fiftyone\n",
    "%pip install ultralytics\n",
    "%pip install polars\n",
    "%pip install torch"
   ]
  },
  {
   "cell_type": "code",
   "execution_count": 1,
   "metadata": {},
   "outputs": [],
   "source": [
    "# Importation\n",
    "import os\n",
    "import fiftyone as fo\n",
    "from   ultralytics import YOLO\n",
    "import torch\n",
    "import random\n",
    "import shutil"
   ]
  },
  {
   "cell_type": "markdown",
   "metadata": {},
   "source": [
    "DOWNLOADING DATASET FOR MODEL DEPLOYMENT"
   ]
  },
  {
   "cell_type": "code",
   "execution_count": 3,
   "metadata": {},
   "outputs": [
    {
     "data": {
      "text/plain": [
       "'\\ndata.export(export_dir   = \"/home/josipa/Documents/data/\",\\n            dataset_type = \"fiftyone.types.YOLOv5Dataset\")\\n'"
      ]
     },
     "execution_count": 3,
     "metadata": {},
     "output_type": "execute_result"
    }
   ],
   "source": [
    "# Downloading dataset from Google apis storages - OpenImages-v7, using Fiftyone library\n",
    "'''\n",
    "data = fo.zoo.load_zoo_dataset(\"open-images-v7\",\n",
    "                                label_types = [\"detections\"],    # Specifying that the task is detection to ensure the corresponding labels are downloaded.\n",
    "                                classes     = [\"Owl\", \"Sheep\"])  # Downloading only images with owls and sheep\n",
    "'''\n",
    "\n",
    "# Exporting the data in a suitable format for YOLOv8\n",
    "'''\n",
    "data.export(export_dir   = \"./export_data/\",       # Choosing the directory where the data will be exported\n",
    "            dataset_type = \"fiftyone.types.YOLOv5Dataset\")       # Choosing an extraction format for the data\n",
    "'''"
   ]
  },
  {
   "cell_type": "markdown",
   "metadata": {},
   "source": [
    "DIVISION OF THE ORIGINAL DATASET INTO THREE REQUIRED PARTS: TRAIN, VALIDATION, AND TEST"
   ]
  },
  {
   "cell_type": "code",
   "execution_count": 2,
   "metadata": {},
   "outputs": [],
   "source": [
    "# The whole dataset has been downloaded into one folder so it must be manually divided into a three sets\n",
    "# The decision is to divide it according to its size in the ratio 8.5 : 1 : 0.5\n",
    "'''\n",
    "train_set_size      = round((17/20) * 2909)  # Size of a train set\n",
    "validation_set_size = round((2/20) * 2909)   # Size of a validation set\n",
    "test_set_size       = round((1/20) * 2909)   # Size of a test set\n",
    "\n",
    "txt_names  = [os.path.splitext(filename)[0] for filename in os.listdir('./export_data/')] # Txt files names connected to a images \n",
    "\n",
    "# Dividing txt names randomly into three lists\n",
    "\n",
    "random.shuffle(txt_names)  # Shuffling the original list\n",
    "\n",
    "txt_names_train = txt_names[:train_set_size]                                      # First  - train part\n",
    "txt_names_valid = txt_names[train_set_size:train_set_size + validation_set_size]  # Second - validation part\n",
    "txt_names_test  = txt_names[train_set_size + validation_set_size:]                # Third  - test part\n",
    "\n",
    "imgs_train_names   = [name + \".jpg\" for name in txt_names_train] # Names of image files that belong in the training set\n",
    "labels_train_names = [name + \".txt\" for name in txt_names_train] # Names of txt files that belong in the training set\n",
    "\n",
    "imgs_valid_names   = [name + \".jpg\" for name in txt_names_valid] # Names of image files that belong in the validation set\n",
    "labels_valid_names = [name + \".txt\" for name in txt_names_valid] # Names of txt files that belong in the validation set\n",
    "\n",
    "imgs_test_names    = [name + \".jpg\" for name in txt_names_test]  # Names of image files that belong in the test set\n",
    "labels_test_names  = [name + \".txt\" for name in txt_names_test]  # Names of txt files that belong in the test set\n",
    "\n",
    "# Creating three new folders with names train, valid and test, and creating two folder inside of them called images and labels\n",
    "new_folders_names = ['train', 'valid', 'test']   \n",
    "\n",
    "destination_folder_imgs   = []\n",
    "destination_folder_labels = []\n",
    "\n",
    "for i in range(len(new_folders_names)):\n",
    "    destination_folder = f\"./export_data/{new_folders_names[i]}/images\"\n",
    "    os.makedirs(destination_folder, exist_ok = True) # Creating the folder if it doesn't exist\n",
    "    destination_folder_imgs.append(destination_folder)\n",
    "\n",
    "    destination_folder = f\"./export_data/{new_folders_names[i]}/labels\"\n",
    "    os.makedirs(destination_folder, exist_ok = True) # Creating the folder if it doesn't exist \n",
    "    destination_folder_labels.append(destination_folder)\n",
    "\n",
    "source_folder_imgs   = \"./export_data/images\" # Source folder where the images are located\n",
    "source_folder_labels = \"./export_data/labels\" # Source folder where the labels are located\n",
    "\n",
    "imgs_names    = [[imgs_train_names],   [imgs_valid_names],   [imgs_test_names]] # Creating a nested list with lists that contain of images names for different sets\n",
    "\n",
    "for i in range(len(imgs_names)):         # Loop through all items in imgs_names\n",
    "    for img_name in imgs_names[i][0]:    # Loop through elements in imgs_names[i][0]\n",
    "    \n",
    "        source_path_imgs = os.path.join(source_folder_imgs, img_name)               # Defining a path to an image that will be copied\n",
    "        destination_path_imgs = os.path.join(destination_folder_imgs[i], img_name)  # Defining a path where an image will be copied\n",
    "        shutil.copy(source_path_imgs, destination_path_imgs)                        # Copying an image\n",
    "\n",
    "        new_txt_name = f\"{img_name[:-4]}.txt\"\n",
    "        source_path_labels = os.path.join(source_folder_labels, new_txt_name)              # Defining a path to the txt that will be copied\n",
    "        destination_path_labels = os.path.join(destination_folder_labels[i], new_txt_name) # Defining a path where the txt will be copied\n",
    "        shutil.copy(source_path_labels, destination_path_labels)                           # Copying an txt file\n",
    "\n",
    "'''"
   ]
  },
  {
   "cell_type": "markdown",
   "metadata": {},
   "source": [
    "DEFINITION OF A PRETRAINED MODEL"
   ]
  },
  {
   "cell_type": "code",
   "execution_count": 5,
   "metadata": {},
   "outputs": [
    {
     "name": "stdout",
     "output_type": "stream",
     "text": [
      "Downloading https://github.com/ultralytics/assets/releases/download/v8.3.0/yolov8m.pt to 'yolov8m.pt'...\n"
     ]
    },
    {
     "name": "stderr",
     "output_type": "stream",
     "text": [
      "100%|██████████| 49.7M/49.7M [00:04<00:00, 10.9MB/s]\n"
     ]
    }
   ],
   "source": [
    "# Downloading pretrained model from the Ultralytics library and saving it in the variable \"model\"\n",
    "model  = YOLO('yolov8m.pt')\n",
    "\n",
    "# Transferring model to a desired device\n",
    "device = torch.device('cuda' if torch.cuda.is_available() else 'cpu')  #  Desired device is GPU, if it is not available then using CPU\n",
    "model  = model.to(device)"
   ]
  },
  {
   "cell_type": "markdown",
   "metadata": {},
   "source": [
    "MODEL TRAINING"
   ]
  },
  {
   "cell_type": "code",
   "execution_count": null,
   "metadata": {},
   "outputs": [
    {
     "name": "stdout",
     "output_type": "stream",
     "text": [
      "New https://pypi.org/project/ultralytics/8.3.63 available 😃 Update with 'pip install -U ultralytics'\n",
      "\u001b[34m\u001b[1mengine/trainer: \u001b[0mtask=detect, mode=train, model=yolov8n.pt, data=/home/josipa/Documents/dataset1/data.yaml, epochs=100, time=None, patience=8, batch=-1, imgsz=640, save=True, save_period=-1, cache=False, device=cpu, workers=8, project=None, name=train16, exist_ok=False, pretrained=True, optimizer=auto, verbose=True, seed=0, deterministic=True, single_cls=False, rect=False, cos_lr=False, close_mosaic=10, resume=False, amp=True, fraction=1.0, profile=False, freeze=None, multi_scale=False, overlap_mask=True, mask_ratio=4, dropout=0.0, val=True, split=val, save_json=False, save_hybrid=False, conf=None, iou=0.7, max_det=300, half=False, dnn=False, plots=True, source=None, vid_stride=1, stream_buffer=False, visualize=False, augment=False, agnostic_nms=False, classes=None, retina_masks=False, embed=None, show=False, save_frames=False, save_txt=False, save_conf=False, save_crop=False, show_labels=True, show_conf=True, show_boxes=True, line_width=None, format=torchscript, keras=False, optimize=False, int8=False, dynamic=False, simplify=True, opset=None, workspace=None, nms=False, lr0=0.01, lrf=0.01, momentum=0.937, weight_decay=0.0005, warmup_epochs=3.0, warmup_momentum=0.8, warmup_bias_lr=0.1, box=7.5, cls=0.5, dfl=1.5, pose=12.0, kobj=1.0, nbs=64, hsv_h=0.015, hsv_s=0.7, hsv_v=0.4, degrees=0.0, translate=0.1, scale=0.5, shear=0.0, perspective=0.0, flipud=0.0, fliplr=0.5, bgr=0.0, mosaic=1.0, mixup=0.0, copy_paste=0.0, copy_paste_mode=flip, auto_augment=randaugment, erasing=0.4, crop_fraction=1.0, cfg=None, tracker=botsort.yaml, save_dir=runs/detect/train16\n",
      "Overriding model.yaml nc=80 with nc=2\n",
      "\n",
      "                   from  n    params  module                                       arguments                     \n",
      "  0                  -1  1       464  ultralytics.nn.modules.conv.Conv             [3, 16, 3, 2]                 \n",
      "  1                  -1  1      4672  ultralytics.nn.modules.conv.Conv             [16, 32, 3, 2]                \n",
      "  2                  -1  1      7360  ultralytics.nn.modules.block.C2f             [32, 32, 1, True]             \n",
      "  3                  -1  1     18560  ultralytics.nn.modules.conv.Conv             [32, 64, 3, 2]                \n",
      "  4                  -1  2     49664  ultralytics.nn.modules.block.C2f             [64, 64, 2, True]             \n",
      "  5                  -1  1     73984  ultralytics.nn.modules.conv.Conv             [64, 128, 3, 2]               \n",
      "  6                  -1  2    197632  ultralytics.nn.modules.block.C2f             [128, 128, 2, True]           \n",
      "  7                  -1  1    295424  ultralytics.nn.modules.conv.Conv             [128, 256, 3, 2]              \n",
      "  8                  -1  1    460288  ultralytics.nn.modules.block.C2f             [256, 256, 1, True]           \n",
      "  9                  -1  1    164608  ultralytics.nn.modules.block.SPPF            [256, 256, 5]                 \n",
      " 10                  -1  1         0  torch.nn.modules.upsampling.Upsample         [None, 2, 'nearest']          \n",
      " 11             [-1, 6]  1         0  ultralytics.nn.modules.conv.Concat           [1]                           \n",
      " 12                  -1  1    148224  ultralytics.nn.modules.block.C2f             [384, 128, 1]                 \n",
      " 13                  -1  1         0  torch.nn.modules.upsampling.Upsample         [None, 2, 'nearest']          \n",
      " 14             [-1, 4]  1         0  ultralytics.nn.modules.conv.Concat           [1]                           \n",
      " 15                  -1  1     37248  ultralytics.nn.modules.block.C2f             [192, 64, 1]                  \n",
      " 16                  -1  1     36992  ultralytics.nn.modules.conv.Conv             [64, 64, 3, 2]                \n",
      " 17            [-1, 12]  1         0  ultralytics.nn.modules.conv.Concat           [1]                           \n",
      " 18                  -1  1    123648  ultralytics.nn.modules.block.C2f             [192, 128, 1]                 \n",
      " 19                  -1  1    147712  ultralytics.nn.modules.conv.Conv             [128, 128, 3, 2]              \n",
      " 20             [-1, 9]  1         0  ultralytics.nn.modules.conv.Concat           [1]                           \n",
      " 21                  -1  1    493056  ultralytics.nn.modules.block.C2f             [384, 256, 1]                 \n",
      " 22        [15, 18, 21]  1    751702  ultralytics.nn.modules.head.Detect           [2, [64, 128, 256]]           \n",
      "Model summary: 225 layers, 3,011,238 parameters, 3,011,222 gradients, 8.2 GFLOPs\n",
      "\n",
      "Transferred 319/355 items from pretrained weights\n",
      "Freezing layer 'model.22.dfl.conv.weight'\n"
     ]
    },
    {
     "name": "stderr",
     "output_type": "stream",
     "text": [
      "\u001b[34m\u001b[1mtrain: \u001b[0mScanning /home/josipa/Documents/dataset1/train/labels... 1200 images, 1 backgrounds, 72 corrupt: 100%|██████████| 1200/1200 [00:00<00:00, 3683.24it/s]"
     ]
    },
    {
     "name": "stdout",
     "output_type": "stream",
     "text": [
      "\u001b[34m\u001b[1mtrain: \u001b[0mWARNING ⚠️ /home/josipa/Documents/dataset1/train/images/0000f2101250b009.jpg: ignoring corrupt image/label: Label class 90 exceeds dataset class count 2. Possible class labels are 0-1\n",
      "\u001b[34m\u001b[1mtrain: \u001b[0mWARNING ⚠️ /home/josipa/Documents/dataset1/train/images/001b8eac86d79744.jpg: ignoring corrupt image/label: Label class 90 exceeds dataset class count 2. Possible class labels are 0-1\n",
      "\u001b[34m\u001b[1mtrain: \u001b[0mWARNING ⚠️ /home/josipa/Documents/dataset1/train/images/006df640ce32c5e2.jpg: ignoring corrupt image/label: Label class 90 exceeds dataset class count 2. Possible class labels are 0-1\n",
      "\u001b[34m\u001b[1mtrain: \u001b[0mWARNING ⚠️ /home/josipa/Documents/dataset1/train/images/017c6dba0c572e61.jpg: ignoring corrupt image/label: Label class 90 exceeds dataset class count 2. Possible class labels are 0-1\n",
      "\u001b[34m\u001b[1mtrain: \u001b[0mWARNING ⚠️ /home/josipa/Documents/dataset1/train/images/018f64e94e5a3dd8.jpg: ignoring corrupt image/label: Label class 90 exceeds dataset class count 2. Possible class labels are 0-1\n",
      "\u001b[34m\u001b[1mtrain: \u001b[0mWARNING ⚠️ /home/josipa/Documents/dataset1/train/images/024314397b3d63e9.jpg: ignoring corrupt image/label: Label class 90 exceeds dataset class count 2. Possible class labels are 0-1\n",
      "\u001b[34m\u001b[1mtrain: \u001b[0mWARNING ⚠️ /home/josipa/Documents/dataset1/train/images/02b10d2b015bceb3.jpg: ignoring corrupt image/label: Label class 90 exceeds dataset class count 2. Possible class labels are 0-1\n",
      "\u001b[34m\u001b[1mtrain: \u001b[0mWARNING ⚠️ /home/josipa/Documents/dataset1/train/images/02c9d88ef2c20697.jpg: ignoring corrupt image/label: Label class 90 exceeds dataset class count 2. Possible class labels are 0-1\n",
      "\u001b[34m\u001b[1mtrain: \u001b[0mWARNING ⚠️ /home/josipa/Documents/dataset1/train/images/02df0b4aa83e521b.jpg: ignoring corrupt image/label: Label class 90 exceeds dataset class count 2. Possible class labels are 0-1\n",
      "\u001b[34m\u001b[1mtrain: \u001b[0mWARNING ⚠️ /home/josipa/Documents/dataset1/train/images/0397981b2a2a838b.jpg: ignoring corrupt image/label: Label class 90 exceeds dataset class count 2. Possible class labels are 0-1\n",
      "\u001b[34m\u001b[1mtrain: \u001b[0mWARNING ⚠️ /home/josipa/Documents/dataset1/train/images/0406d1137ff996e3.jpg: ignoring corrupt image/label: Label class 90 exceeds dataset class count 2. Possible class labels are 0-1\n",
      "\u001b[34m\u001b[1mtrain: \u001b[0mWARNING ⚠️ /home/josipa/Documents/dataset1/train/images/042537f4e032e8e8.jpg: ignoring corrupt image/label: Label class 90 exceeds dataset class count 2. Possible class labels are 0-1\n",
      "\u001b[34m\u001b[1mtrain: \u001b[0mWARNING ⚠️ /home/josipa/Documents/dataset1/train/images/04a2cb60fd068a7c.jpg: ignoring corrupt image/label: Label class 90 exceeds dataset class count 2. Possible class labels are 0-1\n",
      "\u001b[34m\u001b[1mtrain: \u001b[0mWARNING ⚠️ /home/josipa/Documents/dataset1/train/images/0517f1fdb400dfc8.jpg: ignoring corrupt image/label: Label class 90 exceeds dataset class count 2. Possible class labels are 0-1\n",
      "\u001b[34m\u001b[1mtrain: \u001b[0mWARNING ⚠️ /home/josipa/Documents/dataset1/train/images/051e2060ff52e257.jpg: ignoring corrupt image/label: Label class 90 exceeds dataset class count 2. Possible class labels are 0-1\n",
      "\u001b[34m\u001b[1mtrain: \u001b[0mWARNING ⚠️ /home/josipa/Documents/dataset1/train/images/0524260f5fc94141.jpg: ignoring corrupt image/label: Label class 90 exceeds dataset class count 2. Possible class labels are 0-1\n",
      "\u001b[34m\u001b[1mtrain: \u001b[0mWARNING ⚠️ /home/josipa/Documents/dataset1/train/images/052ace7df3fd4592.jpg: ignoring corrupt image/label: Label class 90 exceeds dataset class count 2. Possible class labels are 0-1\n",
      "\u001b[34m\u001b[1mtrain: \u001b[0mWARNING ⚠️ /home/josipa/Documents/dataset1/train/images/053fa647747eb049.jpg: ignoring corrupt image/label: Label class 90 exceeds dataset class count 2. Possible class labels are 0-1\n",
      "\u001b[34m\u001b[1mtrain: \u001b[0mWARNING ⚠️ /home/josipa/Documents/dataset1/train/images/05c06faedbf36b46.jpg: ignoring corrupt image/label: Label class 90 exceeds dataset class count 2. Possible class labels are 0-1\n",
      "\u001b[34m\u001b[1mtrain: \u001b[0mWARNING ⚠️ /home/josipa/Documents/dataset1/train/images/05f3e107dee2b6b1.jpg: ignoring corrupt image/label: Label class 90 exceeds dataset class count 2. Possible class labels are 0-1\n",
      "\u001b[34m\u001b[1mtrain: \u001b[0mWARNING ⚠️ /home/josipa/Documents/dataset1/train/images/05fbb3844318e477.jpg: ignoring corrupt image/label: Label class 90 exceeds dataset class count 2. Possible class labels are 0-1\n",
      "\u001b[34m\u001b[1mtrain: \u001b[0mWARNING ⚠️ /home/josipa/Documents/dataset1/train/images/0650a489d9e1531f.jpg: ignoring corrupt image/label: Label class 90 exceeds dataset class count 2. Possible class labels are 0-1\n",
      "\u001b[34m\u001b[1mtrain: \u001b[0mWARNING ⚠️ /home/josipa/Documents/dataset1/train/images/06c9fb98702d277a.jpg: ignoring corrupt image/label: Label class 89 exceeds dataset class count 2. Possible class labels are 0-1\n",
      "\u001b[34m\u001b[1mtrain: \u001b[0mWARNING ⚠️ /home/josipa/Documents/dataset1/train/images/06e6e0049ad17de0.jpg: ignoring corrupt image/label: Label class 89 exceeds dataset class count 2. Possible class labels are 0-1\n",
      "\u001b[34m\u001b[1mtrain: \u001b[0mWARNING ⚠️ /home/josipa/Documents/dataset1/train/images/087f5df84a522ab6.jpg: ignoring corrupt image/label: Label class 90 exceeds dataset class count 2. Possible class labels are 0-1\n",
      "\u001b[34m\u001b[1mtrain: \u001b[0mWARNING ⚠️ /home/josipa/Documents/dataset1/train/images/094c86ebdd2394d2.jpg: ignoring corrupt image/label: Label class 89 exceeds dataset class count 2. Possible class labels are 0-1\n",
      "\u001b[34m\u001b[1mtrain: \u001b[0mWARNING ⚠️ /home/josipa/Documents/dataset1/train/images/09d095f1fec11cee.jpg: ignoring corrupt image/label: Label class 90 exceeds dataset class count 2. Possible class labels are 0-1\n",
      "\u001b[34m\u001b[1mtrain: \u001b[0mWARNING ⚠️ /home/josipa/Documents/dataset1/train/images/09e466f69bbd4961.jpg: ignoring corrupt image/label: Label class 90 exceeds dataset class count 2. Possible class labels are 0-1\n",
      "\u001b[34m\u001b[1mtrain: \u001b[0mWARNING ⚠️ /home/josipa/Documents/dataset1/train/images/0a3b437aaa66a177.jpg: ignoring corrupt image/label: Label class 90 exceeds dataset class count 2. Possible class labels are 0-1\n",
      "\u001b[34m\u001b[1mtrain: \u001b[0mWARNING ⚠️ /home/josipa/Documents/dataset1/train/images/0b06ffc5939d78d7.jpg: ignoring corrupt image/label: Label class 90 exceeds dataset class count 2. Possible class labels are 0-1\n",
      "\u001b[34m\u001b[1mtrain: \u001b[0mWARNING ⚠️ /home/josipa/Documents/dataset1/train/images/0e0581973ecfd760.jpg: ignoring corrupt image/label: Label class 90 exceeds dataset class count 2. Possible class labels are 0-1\n",
      "\u001b[34m\u001b[1mtrain: \u001b[0mWARNING ⚠️ /home/josipa/Documents/dataset1/train/images/0ebe0eabe7cfecbc.jpg: ignoring corrupt image/label: Label class 90 exceeds dataset class count 2. Possible class labels are 0-1\n",
      "\u001b[34m\u001b[1mtrain: \u001b[0mWARNING ⚠️ /home/josipa/Documents/dataset1/train/images/0ec4fb3bed19018a.jpg: ignoring corrupt image/label: Label class 90 exceeds dataset class count 2. Possible class labels are 0-1\n",
      "\u001b[34m\u001b[1mtrain: \u001b[0mWARNING ⚠️ /home/josipa/Documents/dataset1/train/images/12b45b465e07aaae.jpg: ignoring corrupt image/label: Label class 89 exceeds dataset class count 2. Possible class labels are 0-1\n",
      "\u001b[34m\u001b[1mtrain: \u001b[0mWARNING ⚠️ /home/josipa/Documents/dataset1/train/images/13f2247467f5a77c.jpg: ignoring corrupt image/label: Label class 90 exceeds dataset class count 2. Possible class labels are 0-1\n",
      "\u001b[34m\u001b[1mtrain: \u001b[0mWARNING ⚠️ /home/josipa/Documents/dataset1/train/images/14ac54388c15e6c8.jpg: ignoring corrupt image/label: Label class 90 exceeds dataset class count 2. Possible class labels are 0-1\n",
      "\u001b[34m\u001b[1mtrain: \u001b[0mWARNING ⚠️ /home/josipa/Documents/dataset1/train/images/14d05212f05652a2.jpg: ignoring corrupt image/label: Label class 90 exceeds dataset class count 2. Possible class labels are 0-1\n",
      "\u001b[34m\u001b[1mtrain: \u001b[0mWARNING ⚠️ /home/josipa/Documents/dataset1/train/images/14f0a0e717b1b121.jpg: ignoring corrupt image/label: Label class 89 exceeds dataset class count 2. Possible class labels are 0-1\n",
      "\u001b[34m\u001b[1mtrain: \u001b[0mWARNING ⚠️ /home/josipa/Documents/dataset1/train/images/167bc9daa7047701.jpg: ignoring corrupt image/label: Label class 90 exceeds dataset class count 2. Possible class labels are 0-1\n",
      "\u001b[34m\u001b[1mtrain: \u001b[0mWARNING ⚠️ /home/josipa/Documents/dataset1/train/images/1961b1036f1e9d8b.jpg: ignoring corrupt image/label: Label class 89 exceeds dataset class count 2. Possible class labels are 0-1\n",
      "\u001b[34m\u001b[1mtrain: \u001b[0mWARNING ⚠️ /home/josipa/Documents/dataset1/train/images/19bb078de06076bf.jpg: ignoring corrupt image/label: Label class 90 exceeds dataset class count 2. Possible class labels are 0-1\n",
      "\u001b[34m\u001b[1mtrain: \u001b[0mWARNING ⚠️ /home/josipa/Documents/dataset1/train/images/1a4a7dfe1b4c07ef.jpg: ignoring corrupt image/label: Label class 90 exceeds dataset class count 2. Possible class labels are 0-1\n",
      "\u001b[34m\u001b[1mtrain: \u001b[0mWARNING ⚠️ /home/josipa/Documents/dataset1/train/images/1b804f76667b401f.jpg: ignoring corrupt image/label: Label class 90 exceeds dataset class count 2. Possible class labels are 0-1\n",
      "\u001b[34m\u001b[1mtrain: \u001b[0mWARNING ⚠️ /home/josipa/Documents/dataset1/train/images/1dfa69e0ee1d60ab.jpg: ignoring corrupt image/label: Label class 89 exceeds dataset class count 2. Possible class labels are 0-1\n",
      "\u001b[34m\u001b[1mtrain: \u001b[0mWARNING ⚠️ /home/josipa/Documents/dataset1/train/images/20b42f4ea767d077.jpg: ignoring corrupt image/label: Label class 89 exceeds dataset class count 2. Possible class labels are 0-1\n",
      "\u001b[34m\u001b[1mtrain: \u001b[0mWARNING ⚠️ /home/josipa/Documents/dataset1/train/images/227d017b31867546.jpg: ignoring corrupt image/label: Label class 90 exceeds dataset class count 2. Possible class labels are 0-1\n",
      "\u001b[34m\u001b[1mtrain: \u001b[0mWARNING ⚠️ /home/josipa/Documents/dataset1/train/images/235993d08c96f7bc.jpg: ignoring corrupt image/label: Label class 90 exceeds dataset class count 2. Possible class labels are 0-1\n",
      "\u001b[34m\u001b[1mtrain: \u001b[0mWARNING ⚠️ /home/josipa/Documents/dataset1/train/images/25f1d124126d4492.jpg: ignoring corrupt image/label: Label class 89 exceeds dataset class count 2. Possible class labels are 0-1\n",
      "\u001b[34m\u001b[1mtrain: \u001b[0mWARNING ⚠️ /home/josipa/Documents/dataset1/train/images/278ee63fdcd7f65e.jpg: ignoring corrupt image/label: Label class 89 exceeds dataset class count 2. Possible class labels are 0-1\n",
      "\u001b[34m\u001b[1mtrain: \u001b[0mWARNING ⚠️ /home/josipa/Documents/dataset1/train/images/2a26427b0de0ec3c.jpg: ignoring corrupt image/label: Label class 90 exceeds dataset class count 2. Possible class labels are 0-1\n",
      "\u001b[34m\u001b[1mtrain: \u001b[0mWARNING ⚠️ /home/josipa/Documents/dataset1/train/images/2d25192220ef311d.jpg: ignoring corrupt image/label: Label class 89 exceeds dataset class count 2. Possible class labels are 0-1\n",
      "\u001b[34m\u001b[1mtrain: \u001b[0mWARNING ⚠️ /home/josipa/Documents/dataset1/train/images/2f89fb86f4e5b8ac.jpg: ignoring corrupt image/label: Label class 90 exceeds dataset class count 2. Possible class labels are 0-1\n",
      "\u001b[34m\u001b[1mtrain: \u001b[0mWARNING ⚠️ /home/josipa/Documents/dataset1/train/images/2ffe3bfd4057d2b4.jpg: ignoring corrupt image/label: Label class 90 exceeds dataset class count 2. Possible class labels are 0-1\n",
      "\u001b[34m\u001b[1mtrain: \u001b[0mWARNING ⚠️ /home/josipa/Documents/dataset1/train/images/302c0683a5c3a782.jpg: ignoring corrupt image/label: Label class 89 exceeds dataset class count 2. Possible class labels are 0-1\n",
      "\u001b[34m\u001b[1mtrain: \u001b[0mWARNING ⚠️ /home/josipa/Documents/dataset1/train/images/3747446e8b2b1e97.jpg: ignoring corrupt image/label: Label class 90 exceeds dataset class count 2. Possible class labels are 0-1\n",
      "\u001b[34m\u001b[1mtrain: \u001b[0mWARNING ⚠️ /home/josipa/Documents/dataset1/train/images/38f2c4e35a528fb2.jpg: ignoring corrupt image/label: Label class 90 exceeds dataset class count 2. Possible class labels are 0-1\n",
      "\u001b[34m\u001b[1mtrain: \u001b[0mWARNING ⚠️ /home/josipa/Documents/dataset1/train/images/39939fb56ad0d8d0.jpg: ignoring corrupt image/label: Label class 90 exceeds dataset class count 2. Possible class labels are 0-1\n",
      "\u001b[34m\u001b[1mtrain: \u001b[0mWARNING ⚠️ /home/josipa/Documents/dataset1/train/images/3c3415a56c04f52f.jpg: ignoring corrupt image/label: Label class 90 exceeds dataset class count 2. Possible class labels are 0-1\n",
      "\u001b[34m\u001b[1mtrain: \u001b[0mWARNING ⚠️ /home/josipa/Documents/dataset1/train/images/3d83e303a3ed656e.jpg: ignoring corrupt image/label: Label class 90 exceeds dataset class count 2. Possible class labels are 0-1\n",
      "\u001b[34m\u001b[1mtrain: \u001b[0mWARNING ⚠️ /home/josipa/Documents/dataset1/train/images/3ea6b299d02ffb5c.jpg: ignoring corrupt image/label: Label class 90 exceeds dataset class count 2. Possible class labels are 0-1\n",
      "\u001b[34m\u001b[1mtrain: \u001b[0mWARNING ⚠️ /home/josipa/Documents/dataset1/train/images/3ef37cebec4837d6.jpg: ignoring corrupt image/label: Label class 89 exceeds dataset class count 2. Possible class labels are 0-1\n",
      "\u001b[34m\u001b[1mtrain: \u001b[0mWARNING ⚠️ /home/josipa/Documents/dataset1/train/images/4365b21fd03a5344.jpg: ignoring corrupt image/label: Label class 90 exceeds dataset class count 2. Possible class labels are 0-1\n",
      "\u001b[34m\u001b[1mtrain: \u001b[0mWARNING ⚠️ /home/josipa/Documents/dataset1/train/images/444d0d073288387b.jpg: ignoring corrupt image/label: Label class 90 exceeds dataset class count 2. Possible class labels are 0-1\n",
      "\u001b[34m\u001b[1mtrain: \u001b[0mWARNING ⚠️ /home/josipa/Documents/dataset1/train/images/447445d3446edbbb.jpg: ignoring corrupt image/label: Label class 90 exceeds dataset class count 2. Possible class labels are 0-1\n",
      "\u001b[34m\u001b[1mtrain: \u001b[0mWARNING ⚠️ /home/josipa/Documents/dataset1/train/images/46444e99470cf81c.jpg: ignoring corrupt image/label: Label class 90 exceeds dataset class count 2. Possible class labels are 0-1\n",
      "\u001b[34m\u001b[1mtrain: \u001b[0mWARNING ⚠️ /home/josipa/Documents/dataset1/train/images/48cbb85fb5d679be.jpg: ignoring corrupt image/label: Label class 90 exceeds dataset class count 2. Possible class labels are 0-1\n",
      "\u001b[34m\u001b[1mtrain: \u001b[0mWARNING ⚠️ /home/josipa/Documents/dataset1/train/images/4c8adb89ed2641ff.jpg: ignoring corrupt image/label: Label class 90 exceeds dataset class count 2. Possible class labels are 0-1\n",
      "\u001b[34m\u001b[1mtrain: \u001b[0mWARNING ⚠️ /home/josipa/Documents/dataset1/train/images/4cf17c685f277042.jpg: ignoring corrupt image/label: Label class 90 exceeds dataset class count 2. Possible class labels are 0-1\n",
      "\u001b[34m\u001b[1mtrain: \u001b[0mWARNING ⚠️ /home/josipa/Documents/dataset1/train/images/546124aea9342628.jpg: ignoring corrupt image/label: Label class 89 exceeds dataset class count 2. Possible class labels are 0-1\n",
      "\u001b[34m\u001b[1mtrain: \u001b[0mWARNING ⚠️ /home/josipa/Documents/dataset1/train/images/54805f7afe9e073e.jpg: ignoring corrupt image/label: Label class 89 exceeds dataset class count 2. Possible class labels are 0-1\n",
      "\u001b[34m\u001b[1mtrain: \u001b[0mWARNING ⚠️ /home/josipa/Documents/dataset1/train/images/56679b49f11b0c6e.jpg: ignoring corrupt image/label: Label class 89 exceeds dataset class count 2. Possible class labels are 0-1\n",
      "\u001b[34m\u001b[1mtrain: \u001b[0mWARNING ⚠️ /home/josipa/Documents/dataset1/train/images/56951f26bc87e0a3.jpg: ignoring corrupt image/label: Label class 89 exceeds dataset class count 2. Possible class labels are 0-1\n",
      "\u001b[34m\u001b[1mtrain: \u001b[0mNew cache created: /home/josipa/Documents/dataset1/train/labels.cache\n",
      "\u001b[34m\u001b[1mAutoBatch: \u001b[0mComputing optimal batch size for imgsz=640 at 60.0% CUDA memory utilization.\n",
      "\u001b[34m\u001b[1mAutoBatch: \u001b[0m ⚠️ intended for CUDA devices, using default batch-size 16\n"
     ]
    },
    {
     "name": "stderr",
     "output_type": "stream",
     "text": [
      "\n",
      "\u001b[34m\u001b[1mtrain: \u001b[0mScanning /home/josipa/Documents/dataset1/train/labels.cache... 1200 images, 1 backgrounds, 72 corrupt: 100%|██████████| 1200/1200 [00:00<?, ?it/s]"
     ]
    },
    {
     "name": "stdout",
     "output_type": "stream",
     "text": [
      "\u001b[34m\u001b[1mtrain: \u001b[0mWARNING ⚠️ /home/josipa/Documents/dataset1/train/images/0000f2101250b009.jpg: ignoring corrupt image/label: Label class 90 exceeds dataset class count 2. Possible class labels are 0-1\n",
      "\u001b[34m\u001b[1mtrain: \u001b[0mWARNING ⚠️ /home/josipa/Documents/dataset1/train/images/001b8eac86d79744.jpg: ignoring corrupt image/label: Label class 90 exceeds dataset class count 2. Possible class labels are 0-1\n",
      "\u001b[34m\u001b[1mtrain: \u001b[0mWARNING ⚠️ /home/josipa/Documents/dataset1/train/images/006df640ce32c5e2.jpg: ignoring corrupt image/label: Label class 90 exceeds dataset class count 2. Possible class labels are 0-1\n",
      "\u001b[34m\u001b[1mtrain: \u001b[0mWARNING ⚠️ /home/josipa/Documents/dataset1/train/images/017c6dba0c572e61.jpg: ignoring corrupt image/label: Label class 90 exceeds dataset class count 2. Possible class labels are 0-1\n",
      "\u001b[34m\u001b[1mtrain: \u001b[0mWARNING ⚠️ /home/josipa/Documents/dataset1/train/images/018f64e94e5a3dd8.jpg: ignoring corrupt image/label: Label class 90 exceeds dataset class count 2. Possible class labels are 0-1\n",
      "\u001b[34m\u001b[1mtrain: \u001b[0mWARNING ⚠️ /home/josipa/Documents/dataset1/train/images/024314397b3d63e9.jpg: ignoring corrupt image/label: Label class 90 exceeds dataset class count 2. Possible class labels are 0-1\n",
      "\u001b[34m\u001b[1mtrain: \u001b[0mWARNING ⚠️ /home/josipa/Documents/dataset1/train/images/02b10d2b015bceb3.jpg: ignoring corrupt image/label: Label class 90 exceeds dataset class count 2. Possible class labels are 0-1\n",
      "\u001b[34m\u001b[1mtrain: \u001b[0mWARNING ⚠️ /home/josipa/Documents/dataset1/train/images/02c9d88ef2c20697.jpg: ignoring corrupt image/label: Label class 90 exceeds dataset class count 2. Possible class labels are 0-1\n",
      "\u001b[34m\u001b[1mtrain: \u001b[0mWARNING ⚠️ /home/josipa/Documents/dataset1/train/images/02df0b4aa83e521b.jpg: ignoring corrupt image/label: Label class 90 exceeds dataset class count 2. Possible class labels are 0-1\n",
      "\u001b[34m\u001b[1mtrain: \u001b[0mWARNING ⚠️ /home/josipa/Documents/dataset1/train/images/0397981b2a2a838b.jpg: ignoring corrupt image/label: Label class 90 exceeds dataset class count 2. Possible class labels are 0-1\n",
      "\u001b[34m\u001b[1mtrain: \u001b[0mWARNING ⚠️ /home/josipa/Documents/dataset1/train/images/0406d1137ff996e3.jpg: ignoring corrupt image/label: Label class 90 exceeds dataset class count 2. Possible class labels are 0-1\n",
      "\u001b[34m\u001b[1mtrain: \u001b[0mWARNING ⚠️ /home/josipa/Documents/dataset1/train/images/042537f4e032e8e8.jpg: ignoring corrupt image/label: Label class 90 exceeds dataset class count 2. Possible class labels are 0-1\n",
      "\u001b[34m\u001b[1mtrain: \u001b[0mWARNING ⚠️ /home/josipa/Documents/dataset1/train/images/04a2cb60fd068a7c.jpg: ignoring corrupt image/label: Label class 90 exceeds dataset class count 2. Possible class labels are 0-1\n",
      "\u001b[34m\u001b[1mtrain: \u001b[0mWARNING ⚠️ /home/josipa/Documents/dataset1/train/images/0517f1fdb400dfc8.jpg: ignoring corrupt image/label: Label class 90 exceeds dataset class count 2. Possible class labels are 0-1\n",
      "\u001b[34m\u001b[1mtrain: \u001b[0mWARNING ⚠️ /home/josipa/Documents/dataset1/train/images/051e2060ff52e257.jpg: ignoring corrupt image/label: Label class 90 exceeds dataset class count 2. Possible class labels are 0-1\n",
      "\u001b[34m\u001b[1mtrain: \u001b[0mWARNING ⚠️ /home/josipa/Documents/dataset1/train/images/0524260f5fc94141.jpg: ignoring corrupt image/label: Label class 90 exceeds dataset class count 2. Possible class labels are 0-1\n",
      "\u001b[34m\u001b[1mtrain: \u001b[0mWARNING ⚠️ /home/josipa/Documents/dataset1/train/images/052ace7df3fd4592.jpg: ignoring corrupt image/label: Label class 90 exceeds dataset class count 2. Possible class labels are 0-1\n",
      "\u001b[34m\u001b[1mtrain: \u001b[0mWARNING ⚠️ /home/josipa/Documents/dataset1/train/images/053fa647747eb049.jpg: ignoring corrupt image/label: Label class 90 exceeds dataset class count 2. Possible class labels are 0-1\n",
      "\u001b[34m\u001b[1mtrain: \u001b[0mWARNING ⚠️ /home/josipa/Documents/dataset1/train/images/05c06faedbf36b46.jpg: ignoring corrupt image/label: Label class 90 exceeds dataset class count 2. Possible class labels are 0-1\n",
      "\u001b[34m\u001b[1mtrain: \u001b[0mWARNING ⚠️ /home/josipa/Documents/dataset1/train/images/05f3e107dee2b6b1.jpg: ignoring corrupt image/label: Label class 90 exceeds dataset class count 2. Possible class labels are 0-1\n",
      "\u001b[34m\u001b[1mtrain: \u001b[0mWARNING ⚠️ /home/josipa/Documents/dataset1/train/images/05fbb3844318e477.jpg: ignoring corrupt image/label: Label class 90 exceeds dataset class count 2. Possible class labels are 0-1\n",
      "\u001b[34m\u001b[1mtrain: \u001b[0mWARNING ⚠️ /home/josipa/Documents/dataset1/train/images/0650a489d9e1531f.jpg: ignoring corrupt image/label: Label class 90 exceeds dataset class count 2. Possible class labels are 0-1\n",
      "\u001b[34m\u001b[1mtrain: \u001b[0mWARNING ⚠️ /home/josipa/Documents/dataset1/train/images/06c9fb98702d277a.jpg: ignoring corrupt image/label: Label class 89 exceeds dataset class count 2. Possible class labels are 0-1\n",
      "\u001b[34m\u001b[1mtrain: \u001b[0mWARNING ⚠️ /home/josipa/Documents/dataset1/train/images/06e6e0049ad17de0.jpg: ignoring corrupt image/label: Label class 89 exceeds dataset class count 2. Possible class labels are 0-1\n",
      "\u001b[34m\u001b[1mtrain: \u001b[0mWARNING ⚠️ /home/josipa/Documents/dataset1/train/images/087f5df84a522ab6.jpg: ignoring corrupt image/label: Label class 90 exceeds dataset class count 2. Possible class labels are 0-1\n",
      "\u001b[34m\u001b[1mtrain: \u001b[0mWARNING ⚠️ /home/josipa/Documents/dataset1/train/images/094c86ebdd2394d2.jpg: ignoring corrupt image/label: Label class 89 exceeds dataset class count 2. Possible class labels are 0-1\n",
      "\u001b[34m\u001b[1mtrain: \u001b[0mWARNING ⚠️ /home/josipa/Documents/dataset1/train/images/09d095f1fec11cee.jpg: ignoring corrupt image/label: Label class 90 exceeds dataset class count 2. Possible class labels are 0-1\n",
      "\u001b[34m\u001b[1mtrain: \u001b[0mWARNING ⚠️ /home/josipa/Documents/dataset1/train/images/09e466f69bbd4961.jpg: ignoring corrupt image/label: Label class 90 exceeds dataset class count 2. Possible class labels are 0-1\n",
      "\u001b[34m\u001b[1mtrain: \u001b[0mWARNING ⚠️ /home/josipa/Documents/dataset1/train/images/0a3b437aaa66a177.jpg: ignoring corrupt image/label: Label class 90 exceeds dataset class count 2. Possible class labels are 0-1\n",
      "\u001b[34m\u001b[1mtrain: \u001b[0mWARNING ⚠️ /home/josipa/Documents/dataset1/train/images/0b06ffc5939d78d7.jpg: ignoring corrupt image/label: Label class 90 exceeds dataset class count 2. Possible class labels are 0-1\n",
      "\u001b[34m\u001b[1mtrain: \u001b[0mWARNING ⚠️ /home/josipa/Documents/dataset1/train/images/0e0581973ecfd760.jpg: ignoring corrupt image/label: Label class 90 exceeds dataset class count 2. Possible class labels are 0-1\n",
      "\u001b[34m\u001b[1mtrain: \u001b[0mWARNING ⚠️ /home/josipa/Documents/dataset1/train/images/0ebe0eabe7cfecbc.jpg: ignoring corrupt image/label: Label class 90 exceeds dataset class count 2. Possible class labels are 0-1\n",
      "\u001b[34m\u001b[1mtrain: \u001b[0mWARNING ⚠️ /home/josipa/Documents/dataset1/train/images/0ec4fb3bed19018a.jpg: ignoring corrupt image/label: Label class 90 exceeds dataset class count 2. Possible class labels are 0-1\n",
      "\u001b[34m\u001b[1mtrain: \u001b[0mWARNING ⚠️ /home/josipa/Documents/dataset1/train/images/12b45b465e07aaae.jpg: ignoring corrupt image/label: Label class 89 exceeds dataset class count 2. Possible class labels are 0-1\n",
      "\u001b[34m\u001b[1mtrain: \u001b[0mWARNING ⚠️ /home/josipa/Documents/dataset1/train/images/13f2247467f5a77c.jpg: ignoring corrupt image/label: Label class 90 exceeds dataset class count 2. Possible class labels are 0-1\n",
      "\u001b[34m\u001b[1mtrain: \u001b[0mWARNING ⚠️ /home/josipa/Documents/dataset1/train/images/14ac54388c15e6c8.jpg: ignoring corrupt image/label: Label class 90 exceeds dataset class count 2. Possible class labels are 0-1\n",
      "\u001b[34m\u001b[1mtrain: \u001b[0mWARNING ⚠️ /home/josipa/Documents/dataset1/train/images/14d05212f05652a2.jpg: ignoring corrupt image/label: Label class 90 exceeds dataset class count 2. Possible class labels are 0-1\n",
      "\u001b[34m\u001b[1mtrain: \u001b[0mWARNING ⚠️ /home/josipa/Documents/dataset1/train/images/14f0a0e717b1b121.jpg: ignoring corrupt image/label: Label class 89 exceeds dataset class count 2. Possible class labels are 0-1\n",
      "\u001b[34m\u001b[1mtrain: \u001b[0mWARNING ⚠️ /home/josipa/Documents/dataset1/train/images/167bc9daa7047701.jpg: ignoring corrupt image/label: Label class 90 exceeds dataset class count 2. Possible class labels are 0-1\n",
      "\u001b[34m\u001b[1mtrain: \u001b[0mWARNING ⚠️ /home/josipa/Documents/dataset1/train/images/1961b1036f1e9d8b.jpg: ignoring corrupt image/label: Label class 89 exceeds dataset class count 2. Possible class labels are 0-1\n",
      "\u001b[34m\u001b[1mtrain: \u001b[0mWARNING ⚠️ /home/josipa/Documents/dataset1/train/images/19bb078de06076bf.jpg: ignoring corrupt image/label: Label class 90 exceeds dataset class count 2. Possible class labels are 0-1\n",
      "\u001b[34m\u001b[1mtrain: \u001b[0mWARNING ⚠️ /home/josipa/Documents/dataset1/train/images/1a4a7dfe1b4c07ef.jpg: ignoring corrupt image/label: Label class 90 exceeds dataset class count 2. Possible class labels are 0-1\n",
      "\u001b[34m\u001b[1mtrain: \u001b[0mWARNING ⚠️ /home/josipa/Documents/dataset1/train/images/1b804f76667b401f.jpg: ignoring corrupt image/label: Label class 90 exceeds dataset class count 2. Possible class labels are 0-1\n",
      "\u001b[34m\u001b[1mtrain: \u001b[0mWARNING ⚠️ /home/josipa/Documents/dataset1/train/images/1dfa69e0ee1d60ab.jpg: ignoring corrupt image/label: Label class 89 exceeds dataset class count 2. Possible class labels are 0-1\n",
      "\u001b[34m\u001b[1mtrain: \u001b[0mWARNING ⚠️ /home/josipa/Documents/dataset1/train/images/20b42f4ea767d077.jpg: ignoring corrupt image/label: Label class 89 exceeds dataset class count 2. Possible class labels are 0-1\n",
      "\u001b[34m\u001b[1mtrain: \u001b[0mWARNING ⚠️ /home/josipa/Documents/dataset1/train/images/227d017b31867546.jpg: ignoring corrupt image/label: Label class 90 exceeds dataset class count 2. Possible class labels are 0-1\n",
      "\u001b[34m\u001b[1mtrain: \u001b[0mWARNING ⚠️ /home/josipa/Documents/dataset1/train/images/235993d08c96f7bc.jpg: ignoring corrupt image/label: Label class 90 exceeds dataset class count 2. Possible class labels are 0-1\n",
      "\u001b[34m\u001b[1mtrain: \u001b[0mWARNING ⚠️ /home/josipa/Documents/dataset1/train/images/25f1d124126d4492.jpg: ignoring corrupt image/label: Label class 89 exceeds dataset class count 2. Possible class labels are 0-1\n",
      "\u001b[34m\u001b[1mtrain: \u001b[0mWARNING ⚠️ /home/josipa/Documents/dataset1/train/images/278ee63fdcd7f65e.jpg: ignoring corrupt image/label: Label class 89 exceeds dataset class count 2. Possible class labels are 0-1\n",
      "\u001b[34m\u001b[1mtrain: \u001b[0mWARNING ⚠️ /home/josipa/Documents/dataset1/train/images/2a26427b0de0ec3c.jpg: ignoring corrupt image/label: Label class 90 exceeds dataset class count 2. Possible class labels are 0-1\n",
      "\u001b[34m\u001b[1mtrain: \u001b[0mWARNING ⚠️ /home/josipa/Documents/dataset1/train/images/2d25192220ef311d.jpg: ignoring corrupt image/label: Label class 89 exceeds dataset class count 2. Possible class labels are 0-1\n",
      "\u001b[34m\u001b[1mtrain: \u001b[0mWARNING ⚠️ /home/josipa/Documents/dataset1/train/images/2f89fb86f4e5b8ac.jpg: ignoring corrupt image/label: Label class 90 exceeds dataset class count 2. Possible class labels are 0-1\n",
      "\u001b[34m\u001b[1mtrain: \u001b[0mWARNING ⚠️ /home/josipa/Documents/dataset1/train/images/2ffe3bfd4057d2b4.jpg: ignoring corrupt image/label: Label class 90 exceeds dataset class count 2. Possible class labels are 0-1\n",
      "\u001b[34m\u001b[1mtrain: \u001b[0mWARNING ⚠️ /home/josipa/Documents/dataset1/train/images/302c0683a5c3a782.jpg: ignoring corrupt image/label: Label class 89 exceeds dataset class count 2. Possible class labels are 0-1\n",
      "\u001b[34m\u001b[1mtrain: \u001b[0mWARNING ⚠️ /home/josipa/Documents/dataset1/train/images/3747446e8b2b1e97.jpg: ignoring corrupt image/label: Label class 90 exceeds dataset class count 2. Possible class labels are 0-1\n",
      "\u001b[34m\u001b[1mtrain: \u001b[0mWARNING ⚠️ /home/josipa/Documents/dataset1/train/images/38f2c4e35a528fb2.jpg: ignoring corrupt image/label: Label class 90 exceeds dataset class count 2. Possible class labels are 0-1\n",
      "\u001b[34m\u001b[1mtrain: \u001b[0mWARNING ⚠️ /home/josipa/Documents/dataset1/train/images/39939fb56ad0d8d0.jpg: ignoring corrupt image/label: Label class 90 exceeds dataset class count 2. Possible class labels are 0-1\n",
      "\u001b[34m\u001b[1mtrain: \u001b[0mWARNING ⚠️ /home/josipa/Documents/dataset1/train/images/3c3415a56c04f52f.jpg: ignoring corrupt image/label: Label class 90 exceeds dataset class count 2. Possible class labels are 0-1\n",
      "\u001b[34m\u001b[1mtrain: \u001b[0mWARNING ⚠️ /home/josipa/Documents/dataset1/train/images/3d83e303a3ed656e.jpg: ignoring corrupt image/label: Label class 90 exceeds dataset class count 2. Possible class labels are 0-1\n",
      "\u001b[34m\u001b[1mtrain: \u001b[0mWARNING ⚠️ /home/josipa/Documents/dataset1/train/images/3ea6b299d02ffb5c.jpg: ignoring corrupt image/label: Label class 90 exceeds dataset class count 2. Possible class labels are 0-1\n",
      "\u001b[34m\u001b[1mtrain: \u001b[0mWARNING ⚠️ /home/josipa/Documents/dataset1/train/images/3ef37cebec4837d6.jpg: ignoring corrupt image/label: Label class 89 exceeds dataset class count 2. Possible class labels are 0-1\n",
      "\u001b[34m\u001b[1mtrain: \u001b[0mWARNING ⚠️ /home/josipa/Documents/dataset1/train/images/4365b21fd03a5344.jpg: ignoring corrupt image/label: Label class 90 exceeds dataset class count 2. Possible class labels are 0-1\n",
      "\u001b[34m\u001b[1mtrain: \u001b[0mWARNING ⚠️ /home/josipa/Documents/dataset1/train/images/444d0d073288387b.jpg: ignoring corrupt image/label: Label class 90 exceeds dataset class count 2. Possible class labels are 0-1\n",
      "\u001b[34m\u001b[1mtrain: \u001b[0mWARNING ⚠️ /home/josipa/Documents/dataset1/train/images/447445d3446edbbb.jpg: ignoring corrupt image/label: Label class 90 exceeds dataset class count 2. Possible class labels are 0-1\n",
      "\u001b[34m\u001b[1mtrain: \u001b[0mWARNING ⚠️ /home/josipa/Documents/dataset1/train/images/46444e99470cf81c.jpg: ignoring corrupt image/label: Label class 90 exceeds dataset class count 2. Possible class labels are 0-1\n",
      "\u001b[34m\u001b[1mtrain: \u001b[0mWARNING ⚠️ /home/josipa/Documents/dataset1/train/images/48cbb85fb5d679be.jpg: ignoring corrupt image/label: Label class 90 exceeds dataset class count 2. Possible class labels are 0-1\n",
      "\u001b[34m\u001b[1mtrain: \u001b[0mWARNING ⚠️ /home/josipa/Documents/dataset1/train/images/4c8adb89ed2641ff.jpg: ignoring corrupt image/label: Label class 90 exceeds dataset class count 2. Possible class labels are 0-1\n",
      "\u001b[34m\u001b[1mtrain: \u001b[0mWARNING ⚠️ /home/josipa/Documents/dataset1/train/images/4cf17c685f277042.jpg: ignoring corrupt image/label: Label class 90 exceeds dataset class count 2. Possible class labels are 0-1\n",
      "\u001b[34m\u001b[1mtrain: \u001b[0mWARNING ⚠️ /home/josipa/Documents/dataset1/train/images/546124aea9342628.jpg: ignoring corrupt image/label: Label class 89 exceeds dataset class count 2. Possible class labels are 0-1\n",
      "\u001b[34m\u001b[1mtrain: \u001b[0mWARNING ⚠️ /home/josipa/Documents/dataset1/train/images/54805f7afe9e073e.jpg: ignoring corrupt image/label: Label class 89 exceeds dataset class count 2. Possible class labels are 0-1\n",
      "\u001b[34m\u001b[1mtrain: \u001b[0mWARNING ⚠️ /home/josipa/Documents/dataset1/train/images/56679b49f11b0c6e.jpg: ignoring corrupt image/label: Label class 89 exceeds dataset class count 2. Possible class labels are 0-1\n",
      "\u001b[34m\u001b[1mtrain: \u001b[0mWARNING ⚠️ /home/josipa/Documents/dataset1/train/images/56951f26bc87e0a3.jpg: ignoring corrupt image/label: Label class 89 exceeds dataset class count 2. Possible class labels are 0-1\n"
     ]
    },
    {
     "name": "stderr",
     "output_type": "stream",
     "text": [
      "\n",
      "\u001b[34m\u001b[1mval: \u001b[0mScanning /home/josipa/Documents/dataset1/valid/labels... 92 images, 27 backgrounds, 62 corrupt: 100%|██████████| 92/92 [00:00<00:00, 4630.03it/s]"
     ]
    },
    {
     "name": "stdout",
     "output_type": "stream",
     "text": [
      "\u001b[34m\u001b[1mval: \u001b[0mWARNING ⚠️ /home/josipa/Documents/dataset1/valid/images/04be7b092fc84c8d.jpg: ignoring corrupt image/label: Label class 89 exceeds dataset class count 2. Possible class labels are 0-1\n",
      "\u001b[34m\u001b[1mval: \u001b[0mWARNING ⚠️ /home/josipa/Documents/dataset1/valid/images/0cb5cae66bb9c4cd.jpg: ignoring corrupt image/label: Label class 90 exceeds dataset class count 2. Possible class labels are 0-1\n",
      "\u001b[34m\u001b[1mval: \u001b[0mWARNING ⚠️ /home/josipa/Documents/dataset1/valid/images/0d035b68ebd76f87.jpg: ignoring corrupt image/label: Label class 89 exceeds dataset class count 2. Possible class labels are 0-1\n",
      "\u001b[34m\u001b[1mval: \u001b[0mWARNING ⚠️ /home/josipa/Documents/dataset1/valid/images/0d7726d7d5cd9640.jpg: ignoring corrupt image/label: Label class 89 exceeds dataset class count 2. Possible class labels are 0-1\n",
      "\u001b[34m\u001b[1mval: \u001b[0mWARNING ⚠️ /home/josipa/Documents/dataset1/valid/images/128bbc3d96aced53.jpg: ignoring corrupt image/label: Label class 89 exceeds dataset class count 2. Possible class labels are 0-1\n",
      "\u001b[34m\u001b[1mval: \u001b[0mWARNING ⚠️ /home/josipa/Documents/dataset1/valid/images/13117867bc5fc705.jpg: ignoring corrupt image/label: Label class 89 exceeds dataset class count 2. Possible class labels are 0-1\n",
      "\u001b[34m\u001b[1mval: \u001b[0mWARNING ⚠️ /home/josipa/Documents/dataset1/valid/images/1386f01e1a917c24.jpg: ignoring corrupt image/label: Label class 89 exceeds dataset class count 2. Possible class labels are 0-1\n",
      "\u001b[34m\u001b[1mval: \u001b[0mWARNING ⚠️ /home/josipa/Documents/dataset1/valid/images/19682f51b9c5e5d5.jpg: ignoring corrupt image/label: Label class 89 exceeds dataset class count 2. Possible class labels are 0-1\n",
      "\u001b[34m\u001b[1mval: \u001b[0mWARNING ⚠️ /home/josipa/Documents/dataset1/valid/images/19c027351a250dcd.jpg: ignoring corrupt image/label: Label class 89 exceeds dataset class count 2. Possible class labels are 0-1\n",
      "\u001b[34m\u001b[1mval: \u001b[0mWARNING ⚠️ /home/josipa/Documents/dataset1/valid/images/1d21ad091d7d5898.jpg: ignoring corrupt image/label: Label class 89 exceeds dataset class count 2. Possible class labels are 0-1\n",
      "\u001b[34m\u001b[1mval: \u001b[0mWARNING ⚠️ /home/josipa/Documents/dataset1/valid/images/1fe2b621fb8d74f8.jpg: ignoring corrupt image/label: Label class 89 exceeds dataset class count 2. Possible class labels are 0-1\n",
      "\u001b[34m\u001b[1mval: \u001b[0mWARNING ⚠️ /home/josipa/Documents/dataset1/valid/images/221952a2b452cecc.jpg: ignoring corrupt image/label: Label class 89 exceeds dataset class count 2. Possible class labels are 0-1\n",
      "\u001b[34m\u001b[1mval: \u001b[0mWARNING ⚠️ /home/josipa/Documents/dataset1/valid/images/270014837523e494.jpg: ignoring corrupt image/label: Label class 89 exceeds dataset class count 2. Possible class labels are 0-1\n",
      "\u001b[34m\u001b[1mval: \u001b[0mWARNING ⚠️ /home/josipa/Documents/dataset1/valid/images/2915b8fe822ce391.jpg: ignoring corrupt image/label: Label class 89 exceeds dataset class count 2. Possible class labels are 0-1\n",
      "\u001b[34m\u001b[1mval: \u001b[0mWARNING ⚠️ /home/josipa/Documents/dataset1/valid/images/3317400486b77360.jpg: ignoring corrupt image/label: Label class 89 exceeds dataset class count 2. Possible class labels are 0-1\n",
      "\u001b[34m\u001b[1mval: \u001b[0mWARNING ⚠️ /home/josipa/Documents/dataset1/valid/images/345b2d7adfc11e68.jpg: ignoring corrupt image/label: Label class 89 exceeds dataset class count 2. Possible class labels are 0-1\n",
      "\u001b[34m\u001b[1mval: \u001b[0mWARNING ⚠️ /home/josipa/Documents/dataset1/valid/images/37954c4e6ef506e8.jpg: ignoring corrupt image/label: Label class 89 exceeds dataset class count 2. Possible class labels are 0-1\n",
      "\u001b[34m\u001b[1mval: \u001b[0mWARNING ⚠️ /home/josipa/Documents/dataset1/valid/images/3d8ecbd83a6dd29e.jpg: ignoring corrupt image/label: Label class 89 exceeds dataset class count 2. Possible class labels are 0-1\n",
      "\u001b[34m\u001b[1mval: \u001b[0mWARNING ⚠️ /home/josipa/Documents/dataset1/valid/images/3dc6ad95cd7068ac.jpg: ignoring corrupt image/label: Label class 89 exceeds dataset class count 2. Possible class labels are 0-1\n",
      "\u001b[34m\u001b[1mval: \u001b[0mWARNING ⚠️ /home/josipa/Documents/dataset1/valid/images/49c4c823aaf4db99.jpg: ignoring corrupt image/label: Label class 89 exceeds dataset class count 2. Possible class labels are 0-1\n",
      "\u001b[34m\u001b[1mval: \u001b[0mWARNING ⚠️ /home/josipa/Documents/dataset1/valid/images/4d0180f8f03f1540.jpg: ignoring corrupt image/label: Label class 89 exceeds dataset class count 2. Possible class labels are 0-1\n",
      "\u001b[34m\u001b[1mval: \u001b[0mWARNING ⚠️ /home/josipa/Documents/dataset1/valid/images/521203c117a891c3.jpg: ignoring corrupt image/label: Label class 89 exceeds dataset class count 2. Possible class labels are 0-1\n",
      "\u001b[34m\u001b[1mval: \u001b[0mWARNING ⚠️ /home/josipa/Documents/dataset1/valid/images/5415533b238cce4c.jpg: ignoring corrupt image/label: Label class 89 exceeds dataset class count 2. Possible class labels are 0-1\n",
      "\u001b[34m\u001b[1mval: \u001b[0mWARNING ⚠️ /home/josipa/Documents/dataset1/valid/images/551c0b7c90957c23.jpg: ignoring corrupt image/label: Label class 89 exceeds dataset class count 2. Possible class labels are 0-1\n",
      "\u001b[34m\u001b[1mval: \u001b[0mWARNING ⚠️ /home/josipa/Documents/dataset1/valid/images/552c721172c26452.jpg: ignoring corrupt image/label: Label class 90 exceeds dataset class count 2. Possible class labels are 0-1\n",
      "\u001b[34m\u001b[1mval: \u001b[0mWARNING ⚠️ /home/josipa/Documents/dataset1/valid/images/560895c0379efcd1.jpg: ignoring corrupt image/label: Label class 89 exceeds dataset class count 2. Possible class labels are 0-1\n",
      "\u001b[34m\u001b[1mval: \u001b[0mWARNING ⚠️ /home/josipa/Documents/dataset1/valid/images/5c07734b4b2d7f6b.jpg: ignoring corrupt image/label: Label class 89 exceeds dataset class count 2. Possible class labels are 0-1\n",
      "\u001b[34m\u001b[1mval: \u001b[0mWARNING ⚠️ /home/josipa/Documents/dataset1/valid/images/609bf228b90184d4.jpg: ignoring corrupt image/label: Label class 90 exceeds dataset class count 2. Possible class labels are 0-1\n",
      "\u001b[34m\u001b[1mval: \u001b[0mWARNING ⚠️ /home/josipa/Documents/dataset1/valid/images/618de81b4b5c3cbf.jpg: ignoring corrupt image/label: Label class 89 exceeds dataset class count 2. Possible class labels are 0-1\n",
      "\u001b[34m\u001b[1mval: \u001b[0mWARNING ⚠️ /home/josipa/Documents/dataset1/valid/images/627966f22178a187.jpg: ignoring corrupt image/label: Label class 89 exceeds dataset class count 2. Possible class labels are 0-1\n",
      "\u001b[34m\u001b[1mval: \u001b[0mWARNING ⚠️ /home/josipa/Documents/dataset1/valid/images/64342bfa9f1f2004.jpg: ignoring corrupt image/label: Label class 89 exceeds dataset class count 2. Possible class labels are 0-1\n",
      "\u001b[34m\u001b[1mval: \u001b[0mWARNING ⚠️ /home/josipa/Documents/dataset1/valid/images/68d16e7efbb42509.jpg: ignoring corrupt image/label: Label class 89 exceeds dataset class count 2. Possible class labels are 0-1\n",
      "\u001b[34m\u001b[1mval: \u001b[0mWARNING ⚠️ /home/josipa/Documents/dataset1/valid/images/6c7033ac862ef96f.jpg: ignoring corrupt image/label: Label class 89 exceeds dataset class count 2. Possible class labels are 0-1\n",
      "\u001b[34m\u001b[1mval: \u001b[0mWARNING ⚠️ /home/josipa/Documents/dataset1/valid/images/6d1ab541bdec779a.jpg: ignoring corrupt image/label: Label class 89 exceeds dataset class count 2. Possible class labels are 0-1\n",
      "\u001b[34m\u001b[1mval: \u001b[0mWARNING ⚠️ /home/josipa/Documents/dataset1/valid/images/77abfe5ae3c81255.jpg: ignoring corrupt image/label: Label class 89 exceeds dataset class count 2. Possible class labels are 0-1\n",
      "\u001b[34m\u001b[1mval: \u001b[0mWARNING ⚠️ /home/josipa/Documents/dataset1/valid/images/783deeba0ed143cd.jpg: ignoring corrupt image/label: Label class 89 exceeds dataset class count 2. Possible class labels are 0-1\n",
      "\u001b[34m\u001b[1mval: \u001b[0mWARNING ⚠️ /home/josipa/Documents/dataset1/valid/images/787e16215ee8b6c0.jpg: ignoring corrupt image/label: Label class 89 exceeds dataset class count 2. Possible class labels are 0-1\n",
      "\u001b[34m\u001b[1mval: \u001b[0mWARNING ⚠️ /home/josipa/Documents/dataset1/valid/images/7cd3addcb0f2d2cf.jpg: ignoring corrupt image/label: Label class 89 exceeds dataset class count 2. Possible class labels are 0-1\n",
      "\u001b[34m\u001b[1mval: \u001b[0mWARNING ⚠️ /home/josipa/Documents/dataset1/valid/images/832dfca068646e7d.jpg: ignoring corrupt image/label: Label class 89 exceeds dataset class count 2. Possible class labels are 0-1\n",
      "\u001b[34m\u001b[1mval: \u001b[0mWARNING ⚠️ /home/josipa/Documents/dataset1/valid/images/87ea58fb7ed13387.jpg: ignoring corrupt image/label: Label class 89 exceeds dataset class count 2. Possible class labels are 0-1\n",
      "\u001b[34m\u001b[1mval: \u001b[0mWARNING ⚠️ /home/josipa/Documents/dataset1/valid/images/884aabc8ddc174e2.jpg: ignoring corrupt image/label: Label class 89 exceeds dataset class count 2. Possible class labels are 0-1\n",
      "\u001b[34m\u001b[1mval: \u001b[0mWARNING ⚠️ /home/josipa/Documents/dataset1/valid/images/8b2c35c6ab5d7ed0.jpg: ignoring corrupt image/label: Label class 89 exceeds dataset class count 2. Possible class labels are 0-1\n",
      "\u001b[34m\u001b[1mval: \u001b[0mWARNING ⚠️ /home/josipa/Documents/dataset1/valid/images/9e7b9dd50d49c76b.jpg: ignoring corrupt image/label: Label class 89 exceeds dataset class count 2. Possible class labels are 0-1\n",
      "\u001b[34m\u001b[1mval: \u001b[0mWARNING ⚠️ /home/josipa/Documents/dataset1/valid/images/a79c779bdbf817f4.jpg: ignoring corrupt image/label: Label class 89 exceeds dataset class count 2. Possible class labels are 0-1\n",
      "\u001b[34m\u001b[1mval: \u001b[0mWARNING ⚠️ /home/josipa/Documents/dataset1/valid/images/a8b7c6505e3b1822.jpg: ignoring corrupt image/label: Label class 89 exceeds dataset class count 2. Possible class labels are 0-1\n",
      "\u001b[34m\u001b[1mval: \u001b[0mWARNING ⚠️ /home/josipa/Documents/dataset1/valid/images/aadbcdba07e58619.jpg: ignoring corrupt image/label: Label class 89 exceeds dataset class count 2. Possible class labels are 0-1\n",
      "\u001b[34m\u001b[1mval: \u001b[0mWARNING ⚠️ /home/josipa/Documents/dataset1/valid/images/ae3a7ec3ecd4fd80.jpg: ignoring corrupt image/label: Label class 89 exceeds dataset class count 2. Possible class labels are 0-1\n",
      "\u001b[34m\u001b[1mval: \u001b[0mWARNING ⚠️ /home/josipa/Documents/dataset1/valid/images/aec7e46930318100.jpg: ignoring corrupt image/label: Label class 89 exceeds dataset class count 2. Possible class labels are 0-1\n",
      "\u001b[34m\u001b[1mval: \u001b[0mWARNING ⚠️ /home/josipa/Documents/dataset1/valid/images/b50e14a0661848e8.jpg: ignoring corrupt image/label: Label class 89 exceeds dataset class count 2. Possible class labels are 0-1\n",
      "\u001b[34m\u001b[1mval: \u001b[0mWARNING ⚠️ /home/josipa/Documents/dataset1/valid/images/b616d2befceab9a8.jpg: ignoring corrupt image/label: Label class 89 exceeds dataset class count 2. Possible class labels are 0-1\n",
      "\u001b[34m\u001b[1mval: \u001b[0mWARNING ⚠️ /home/josipa/Documents/dataset1/valid/images/b88de954103ceb6c.jpg: ignoring corrupt image/label: Label class 89 exceeds dataset class count 2. Possible class labels are 0-1\n",
      "\u001b[34m\u001b[1mval: \u001b[0mWARNING ⚠️ /home/josipa/Documents/dataset1/valid/images/b9e469fd3483a49a.jpg: ignoring corrupt image/label: Label class 89 exceeds dataset class count 2. Possible class labels are 0-1\n",
      "\u001b[34m\u001b[1mval: \u001b[0mWARNING ⚠️ /home/josipa/Documents/dataset1/valid/images/ba4067ffaa2b7e47.jpg: ignoring corrupt image/label: Label class 89 exceeds dataset class count 2. Possible class labels are 0-1\n",
      "\u001b[34m\u001b[1mval: \u001b[0mWARNING ⚠️ /home/josipa/Documents/dataset1/valid/images/dc979cc4b88ae026.jpg: ignoring corrupt image/label: Label class 89 exceeds dataset class count 2. Possible class labels are 0-1\n",
      "\u001b[34m\u001b[1mval: \u001b[0mWARNING ⚠️ /home/josipa/Documents/dataset1/valid/images/de046443b2e3ff24.jpg: ignoring corrupt image/label: Label class 89 exceeds dataset class count 2. Possible class labels are 0-1\n",
      "\u001b[34m\u001b[1mval: \u001b[0mWARNING ⚠️ /home/josipa/Documents/dataset1/valid/images/e16b10bb678e621b.jpg: ignoring corrupt image/label: Label class 89 exceeds dataset class count 2. Possible class labels are 0-1\n",
      "\u001b[34m\u001b[1mval: \u001b[0mWARNING ⚠️ /home/josipa/Documents/dataset1/valid/images/e6cb3db8bffb3251.jpg: ignoring corrupt image/label: Label class 89 exceeds dataset class count 2. Possible class labels are 0-1\n",
      "\u001b[34m\u001b[1mval: \u001b[0mWARNING ⚠️ /home/josipa/Documents/dataset1/valid/images/ebbc5c3c4b35bedd.jpg: ignoring corrupt image/label: Label class 89 exceeds dataset class count 2. Possible class labels are 0-1\n",
      "\u001b[34m\u001b[1mval: \u001b[0mWARNING ⚠️ /home/josipa/Documents/dataset1/valid/images/edca6e493d4d80d1.jpg: ignoring corrupt image/label: Label class 89 exceeds dataset class count 2. Possible class labels are 0-1\n",
      "\u001b[34m\u001b[1mval: \u001b[0mWARNING ⚠️ /home/josipa/Documents/dataset1/valid/images/f5d935c8fd3ef252.jpg: ignoring corrupt image/label: Label class 89 exceeds dataset class count 2. Possible class labels are 0-1\n",
      "\u001b[34m\u001b[1mval: \u001b[0mWARNING ⚠️ /home/josipa/Documents/dataset1/valid/images/f9da0eb568530201.jpg: ignoring corrupt image/label: Label class 89 exceeds dataset class count 2. Possible class labels are 0-1\n",
      "\u001b[34m\u001b[1mval: \u001b[0mWARNING ⚠️ /home/josipa/Documents/dataset1/valid/images/fcf6ae6d7dd09345.jpg: ignoring corrupt image/label: Label class 89 exceeds dataset class count 2. Possible class labels are 0-1\n",
      "\u001b[34m\u001b[1mval: \u001b[0mNew cache created: /home/josipa/Documents/dataset1/valid/labels.cache\n"
     ]
    },
    {
     "name": "stderr",
     "output_type": "stream",
     "text": [
      "\n"
     ]
    },
    {
     "name": "stdout",
     "output_type": "stream",
     "text": [
      "Plotting labels to runs/detect/train16/labels.jpg... \n",
      "\u001b[34m\u001b[1moptimizer:\u001b[0m 'optimizer=auto' found, ignoring 'lr0=0.01' and 'momentum=0.937' and determining best 'optimizer', 'lr0' and 'momentum' automatically... \n",
      "\u001b[34m\u001b[1moptimizer:\u001b[0m AdamW(lr=0.001667, momentum=0.9) with parameter groups 57 weight(decay=0.0), 64 weight(decay=0.0005), 63 bias(decay=0.0)\n",
      "Image sizes 640 train, 640 val\n",
      "Using 0 dataloader workers\n",
      "Logging results to \u001b[1mruns/detect/train16\u001b[0m\n",
      "Starting training for 100 epochs...\n",
      "\n",
      "      Epoch    GPU_mem   box_loss   cls_loss   dfl_loss  Instances       Size\n"
     ]
    },
    {
     "name": "stderr",
     "output_type": "stream",
     "text": [
      "      1/100         0G      1.045      2.111      1.275         29        640: 100%|██████████| 71/71 [07:21<00:00,  6.21s/it]\n",
      "                 Class     Images  Instances      Box(P          R      mAP50  mAP50-95): 100%|██████████| 1/1 [00:04<00:00,  4.77s/it]"
     ]
    },
    {
     "name": "stdout",
     "output_type": "stream",
     "text": [
      "                   all         30          4     0.0009          1    0.00518    0.00149\n"
     ]
    },
    {
     "name": "stderr",
     "output_type": "stream",
     "text": [
      "\n"
     ]
    },
    {
     "name": "stdout",
     "output_type": "stream",
     "text": [
      "\n",
      "      Epoch    GPU_mem   box_loss   cls_loss   dfl_loss  Instances       Size\n"
     ]
    },
    {
     "name": "stderr",
     "output_type": "stream",
     "text": [
      "      2/100         0G      1.205      1.821      1.406         35        640: 100%|██████████| 71/71 [07:08<00:00,  6.04s/it]\n",
      "                 Class     Images  Instances      Box(P          R      mAP50  mAP50-95): 100%|██████████| 1/1 [00:04<00:00,  4.12s/it]"
     ]
    },
    {
     "name": "stdout",
     "output_type": "stream",
     "text": [
      "                   all         30          4   0.000856          1    0.00226   0.000641\n"
     ]
    },
    {
     "name": "stderr",
     "output_type": "stream",
     "text": [
      "\n"
     ]
    },
    {
     "name": "stdout",
     "output_type": "stream",
     "text": [
      "\n",
      "      Epoch    GPU_mem   box_loss   cls_loss   dfl_loss  Instances       Size\n"
     ]
    },
    {
     "name": "stderr",
     "output_type": "stream",
     "text": [
      "      3/100         0G      1.285      1.782      1.441         38        640: 100%|██████████| 71/71 [15:36<00:00, 13.19s/it]   \n",
      "                 Class     Images  Instances      Box(P          R      mAP50  mAP50-95): 100%|██████████| 1/1 [00:04<00:00,  4.34s/it]"
     ]
    },
    {
     "name": "stdout",
     "output_type": "stream",
     "text": [
      "                   all         30          4   0.000795       0.75    0.00532    0.00161\n"
     ]
    },
    {
     "name": "stderr",
     "output_type": "stream",
     "text": [
      "\n"
     ]
    },
    {
     "name": "stdout",
     "output_type": "stream",
     "text": [
      "\n",
      "      Epoch    GPU_mem   box_loss   cls_loss   dfl_loss  Instances       Size\n"
     ]
    },
    {
     "name": "stderr",
     "output_type": "stream",
     "text": [
      "      4/100         0G      1.288      1.733      1.473         62        640: 100%|██████████| 71/71 [07:17<00:00,  6.16s/it]\n",
      "                 Class     Images  Instances      Box(P          R      mAP50  mAP50-95): 100%|██████████| 1/1 [00:04<00:00,  4.32s/it]"
     ]
    },
    {
     "name": "stdout",
     "output_type": "stream",
     "text": [
      "                   all         30          4   0.000607       0.75   0.000648   0.000177\n"
     ]
    },
    {
     "name": "stderr",
     "output_type": "stream",
     "text": [
      "\n"
     ]
    },
    {
     "name": "stdout",
     "output_type": "stream",
     "text": [
      "\n",
      "      Epoch    GPU_mem   box_loss   cls_loss   dfl_loss  Instances       Size\n"
     ]
    },
    {
     "name": "stderr",
     "output_type": "stream",
     "text": [
      "      5/100         0G       1.31      1.703      1.479         26        640: 100%|██████████| 71/71 [07:17<00:00,  6.17s/it]\n",
      "                 Class     Images  Instances      Box(P          R      mAP50  mAP50-95): 100%|██████████| 1/1 [00:04<00:00,  4.30s/it]"
     ]
    },
    {
     "name": "stdout",
     "output_type": "stream",
     "text": [
      "                   all         30          4    0.00121          1    0.00315   0.000742\n"
     ]
    },
    {
     "name": "stderr",
     "output_type": "stream",
     "text": [
      "\n"
     ]
    },
    {
     "name": "stdout",
     "output_type": "stream",
     "text": [
      "\n",
      "      Epoch    GPU_mem   box_loss   cls_loss   dfl_loss  Instances       Size\n"
     ]
    },
    {
     "name": "stderr",
     "output_type": "stream",
     "text": [
      "      6/100         0G       1.25      1.601       1.45         24        640: 100%|██████████| 71/71 [07:25<00:00,  6.28s/it]\n",
      "                 Class     Images  Instances      Box(P          R      mAP50  mAP50-95): 100%|██████████| 1/1 [00:04<00:00,  4.55s/it]"
     ]
    },
    {
     "name": "stdout",
     "output_type": "stream",
     "text": [
      "                   all         30          4     0.0391       0.25     0.0228    0.00571\n"
     ]
    },
    {
     "name": "stderr",
     "output_type": "stream",
     "text": [
      "\n"
     ]
    },
    {
     "name": "stdout",
     "output_type": "stream",
     "text": [
      "\n",
      "      Epoch    GPU_mem   box_loss   cls_loss   dfl_loss  Instances       Size\n"
     ]
    },
    {
     "name": "stderr",
     "output_type": "stream",
     "text": [
      "      7/100         0G      1.276      1.552      1.454         64        640: 100%|██████████| 71/71 [07:35<00:00,  6.41s/it]\n",
      "                 Class     Images  Instances      Box(P          R      mAP50  mAP50-95): 100%|██████████| 1/1 [00:04<00:00,  4.53s/it]"
     ]
    },
    {
     "name": "stdout",
     "output_type": "stream",
     "text": [
      "                   all         30          4      0.146       0.25     0.0884      0.021\n"
     ]
    },
    {
     "name": "stderr",
     "output_type": "stream",
     "text": [
      "\n"
     ]
    },
    {
     "name": "stdout",
     "output_type": "stream",
     "text": [
      "\n",
      "      Epoch    GPU_mem   box_loss   cls_loss   dfl_loss  Instances       Size\n"
     ]
    },
    {
     "name": "stderr",
     "output_type": "stream",
     "text": [
      "      8/100         0G      1.245      1.533       1.43         30        640: 100%|██████████| 71/71 [09:42<00:00,  8.20s/it]\n",
      "                 Class     Images  Instances      Box(P          R      mAP50  mAP50-95): 100%|██████████| 1/1 [00:04<00:00,  4.36s/it]"
     ]
    },
    {
     "name": "stdout",
     "output_type": "stream",
     "text": [
      "                   all         30          4      0.165       0.25     0.0853      0.011\n"
     ]
    },
    {
     "name": "stderr",
     "output_type": "stream",
     "text": [
      "\n"
     ]
    },
    {
     "name": "stdout",
     "output_type": "stream",
     "text": [
      "\n",
      "      Epoch    GPU_mem   box_loss   cls_loss   dfl_loss  Instances       Size\n"
     ]
    },
    {
     "name": "stderr",
     "output_type": "stream",
     "text": [
      "      9/100         0G      1.198      1.444      1.402         20        640: 100%|██████████| 71/71 [07:21<00:00,  6.22s/it]\n",
      "                 Class     Images  Instances      Box(P          R      mAP50  mAP50-95): 100%|██████████| 1/1 [00:04<00:00,  4.27s/it]"
     ]
    },
    {
     "name": "stdout",
     "output_type": "stream",
     "text": [
      "                   all         30          4    0.00209        0.5    0.00235   0.000744\n"
     ]
    },
    {
     "name": "stderr",
     "output_type": "stream",
     "text": [
      "\n"
     ]
    },
    {
     "name": "stdout",
     "output_type": "stream",
     "text": [
      "\n",
      "      Epoch    GPU_mem   box_loss   cls_loss   dfl_loss  Instances       Size\n"
     ]
    },
    {
     "name": "stderr",
     "output_type": "stream",
     "text": [
      "     10/100         0G      1.145      1.375       1.38         31        640: 100%|██████████| 71/71 [07:29<00:00,  6.34s/it]\n",
      "                 Class     Images  Instances      Box(P          R      mAP50  mAP50-95): 100%|██████████| 1/1 [00:04<00:00,  4.44s/it]"
     ]
    },
    {
     "name": "stdout",
     "output_type": "stream",
     "text": [
      "                   all         30          4     0.0526       0.25     0.0177    0.00201\n"
     ]
    },
    {
     "name": "stderr",
     "output_type": "stream",
     "text": [
      "\n"
     ]
    },
    {
     "name": "stdout",
     "output_type": "stream",
     "text": [
      "\n",
      "      Epoch    GPU_mem   box_loss   cls_loss   dfl_loss  Instances       Size\n"
     ]
    },
    {
     "name": "stderr",
     "output_type": "stream",
     "text": [
      "     11/100         0G      1.172      1.349      1.385         34        640: 100%|██████████| 71/71 [07:48<00:00,  6.59s/it]\n",
      "                 Class     Images  Instances      Box(P          R      mAP50  mAP50-95): 100%|██████████| 1/1 [00:04<00:00,  4.63s/it]"
     ]
    },
    {
     "name": "stdout",
     "output_type": "stream",
     "text": [
      "                   all         30          4     0.0778       0.25     0.0348    0.00489\n"
     ]
    },
    {
     "name": "stderr",
     "output_type": "stream",
     "text": [
      "\n"
     ]
    },
    {
     "name": "stdout",
     "output_type": "stream",
     "text": [
      "\n",
      "      Epoch    GPU_mem   box_loss   cls_loss   dfl_loss  Instances       Size\n"
     ]
    },
    {
     "name": "stderr",
     "output_type": "stream",
     "text": [
      "     12/100         0G      1.134      1.321      1.357         61        640:  96%|█████████▌| 68/71 [07:13<00:18,  6.21s/it]"
     ]
    }
   ],
   "source": [
    "# Model training with adjusted hyperparameters\n",
    "model.train(data         = './data/data.yaml',  # Path to a .yaml file\n",
    "            epochs       = 100,                                            # Number that represents how many of full passess will be over the entire data\n",
    "            patience     = 8,                                              # Number of epochs to wait without improvement\n",
    "            batch        = 8,                                              # Batch size\n",
    "            imgsz        = 720,                                            # Target image size for training\n",
    "            save         = True,                                           # Enabling saving of checkpoints and final model weights\n",
    "            workers      = 8,                                              # Number of worker threads for data loading\n",
    "            lr0          = 0.01,                                           # Initial learning rate\n",
    "            lrf          = 0.01,                                           # Final learning rate\n",
    "            momentum     = 0.937,                                          # Momentum factor influencing the incorporation of past gradients in the current update\n",
    "            weight_decay = 0.0005,                                         # L2 regularization term\n",
    "            pretrained   = True,                                           # Enabling use of a pretrained model\n",
    "            verbose      = False                                           # Shutting off messages in info while training\n",
    "           )"
   ]
  },
  {
   "cell_type": "markdown",
   "metadata": {},
   "source": [
    "MAKING PREDICTIONS WITH TRAINED MODEL"
   ]
  },
  {
   "cell_type": "code",
   "execution_count": null,
   "metadata": {},
   "outputs": [],
   "source": [
    "output_dir = './results_predict/'                    # Name of a directory where the results of the prediction will be stored\n",
    "os.makedirs(output_dir, exist_ok = True)             # Creating a directory"
   ]
  },
  {
   "cell_type": "code",
   "execution_count": null,
   "metadata": {},
   "outputs": [],
   "source": [
    "model.predict(     source = './data/test/images/', # Path to test data\n",
    "                     save = True,        # Enabling saving of results\n",
    "                  project = output_dir,  # Name of a directory where the results will be stored\n",
    "               line_width = 2, \n",
    "                     conf = 0.4,         # Confidence threshold for prediction\n",
    "                     iou  = 0.5,         # IoU threshold for prediction\n",
    "              show_labels = True,        # Enabling showing labels on images\n",
    "                  verbose = False,       # Suppressing detailed logs, only critical information will be displayed \n",
    "                 save_txt = True,\n",
    "                save_conf = True,\n",
    "                imgsz     = 720,         # Defining imgsz\n",
    "             agnostic_nms = True         # Allowing nms process when making predictions\n",
    "             )"
   ]
  },
  {
   "cell_type": "markdown",
   "metadata": {},
   "source": [
    "CALCULATING METRICS ON A VALIDATION DATA"
   ]
  },
  {
   "cell_type": "code",
   "execution_count": null,
   "metadata": {},
   "outputs": [],
   "source": [
    "output_dir_validation = './results_validation/'    # Name of a directory where the results of the validation on a validation data will be stored\n",
    "os.makedirs(output_dir_validation, exist_ok=True)  # Creating a directory"
   ]
  },
  {
   "cell_type": "code",
   "execution_count": null,
   "metadata": {},
   "outputs": [],
   "source": [
    "# Starting validation process on validation data and storing results in results_val variable\n",
    "results_val = model.val(data    = \"./data/data.yaml\",\n",
    "                        save    = True,\n",
    "                         iou    = 0.5,\n",
    "                        conf    = 0.4,\n",
    "                        project = output_dir_validation)"
   ]
  },
  {
   "cell_type": "code",
   "execution_count": null,
   "metadata": {},
   "outputs": [],
   "source": [
    "# Printing key metrics\n",
    "print(\"Mean average precision at IoU=0.5:\", round(results_val.box.map50, 4), \"\\n\")\n",
    "print(\"Mean average precision at IoU averaged over thresholds 0.5 to 0.95: \", round(results_val.box.map, 4), \"\\n\")    \n",
    "print(\"Precision:\", results_val.box.f1, \"\\n\")\n",
    "print(\"Recall:\", results_val.box.r, \"\\n\")\n",
    "print(\"AP scores for all classes and all IoU thresholds:\", results_val.box.all_ap)"
   ]
  },
  {
   "cell_type": "markdown",
   "metadata": {},
   "source": [
    "CALCULATING METRICS ON A TEST DATA"
   ]
  },
  {
   "cell_type": "code",
   "execution_count": null,
   "metadata": {},
   "outputs": [],
   "source": [
    "output_dir_test = './results_test/'  # Name of a directory where the results of the validation on a validation data will be stored\n",
    "os.makedirs(output_dir_test, exist_ok=True)             # Creating a directory"
   ]
  },
  {
   "cell_type": "code",
   "execution_count": null,
   "metadata": {},
   "outputs": [],
   "source": [
    "results_test = model.val(data    = \"./data/data.yaml\",\n",
    "                         split   = \"test\",\n",
    "                         save    = True,\n",
    "                          iou    = 0.5,\n",
    "                         conf    = 0.4,\n",
    "                         project = output_dir_test)"
   ]
  },
  {
   "cell_type": "code",
   "execution_count": null,
   "metadata": {},
   "outputs": [],
   "source": [
    "# Key metrics\n",
    "print(\"Mean average precision at IoU = 0.5:\", round(results_test.box.map50, 4), \"\\n\")\n",
    "print(\"Mean average precision at IoU averaged over thresholds 0.5 to 0.95: \", round(results_test.box.map, 4), \"\\n\")  \n",
    "print(\"Precision:\", results_test.box.f1, \"\\n\")\n",
    "print(\"Recall:\", results_test.box.r, \"\\n\")\n",
    "print(\"AP scores for all classes and all IoU thresholds:\", results_test.box.all_ap)"
   ]
  }
 ],
 "metadata": {
  "kernelspec": {
   "display_name": "Python 3",
   "language": "python",
   "name": "python3"
  },
  "language_info": {
   "codemirror_mode": {
    "name": "ipython",
    "version": 3
   },
   "file_extension": ".py",
   "mimetype": "text/x-python",
   "name": "python",
   "nbconvert_exporter": "python",
   "pygments_lexer": "ipython3",
   "version": "3.11.2"
  }
 },
 "nbformat": 4,
 "nbformat_minor": 2
}
